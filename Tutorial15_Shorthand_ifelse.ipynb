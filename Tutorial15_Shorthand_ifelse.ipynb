{
  "nbformat": 4,
  "nbformat_minor": 0,
  "metadata": {
    "colab": {
      "name": "Tutorial15_Shorthand_ifelse.ipynb",
      "provenance": [],
      "authorship_tag": "ABX9TyPkUEtRi9awPiN7/yc+w91S",
      "include_colab_link": true
    },
    "kernelspec": {
      "name": "python3",
      "display_name": "Python 3"
    }
  },
  "cells": [
    {
      "cell_type": "markdown",
      "metadata": {
        "id": "view-in-github",
        "colab_type": "text"
      },
      "source": [
        "<a href=\"https://colab.research.google.com/github/Shambhavi-Gupta/Tutorial15_Shorthand_ifelse/blob/main/Tutorial15_Shorthand_ifelse.ipynb\" target=\"_parent\"><img src=\"https://colab.research.google.com/assets/colab-badge.svg\" alt=\"Open In Colab\"/></a>"
      ]
    },
    {
      "cell_type": "code",
      "metadata": {
        "id": "1jnSW8Dcz5yk"
      },
      "source": [
        "a = int(input(\"Enter a number a \\n\"))\r\n",
        "b = int(input(\"Enter a number b \\n\"))\r\n",
        "\r\n",
        "#if a>b: print(\"A is greater\")\r\n",
        "\r\n",
        "print(\"A is greater than B\") if a>b else print(\"B is greater than A\")\r\n",
        "\r\n",
        "# if a>b:\r\n",
        "#     print(\"Greater\")\r\n",
        "# if a>b:\r\n",
        "#     print(\"a is greater\")\r\n",
        "# else:\r\n",
        "#     print(\"b is greater\")\r\n",
        "#"
      ],
      "execution_count": null,
      "outputs": []
    }
  ]
}